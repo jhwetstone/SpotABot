{
 "cells": [
  {
   "cell_type": "code",
   "execution_count": 97,
   "metadata": {
    "collapsed": true
   },
   "outputs": [],
   "source": [
    "# Initialization\n",
    "%matplotlib inline\n",
    "\n",
    "import matplotlib\n",
    "import matplotlib.pyplot as plt\n",
    "import numpy as np\n",
    "import pandas as pd\n",
    "import random\n",
    "import io"
   ]
  },
  {
   "cell_type": "code",
   "execution_count": 98,
   "metadata": {},
   "outputs": [
    {
     "name": "stdout",
     "output_type": "stream",
     "text": [
      "Total number of genuine tweets: 2839364\n",
      "Total number of bot tweets: 1610035\n"
     ]
    }
   ],
   "source": [
    "# Count how many rows in each .csv file\n",
    "\n",
    "filename_gen = \"genuine_accounts.csv/tweets.csv\"\n",
    "filename_bot = \"social_spambots_1.csv/tweets.csv\"\n",
    "\n",
    "M_gen = sum(1 for l in io.open(filename_gen, encoding='latin-1'))\n",
    "M_bot = sum(1 for l in io.open(filename_bot, encoding='latin-1'))\n",
    "\n",
    "print(\"Total number of genuine tweets: %d\" % M_gen)\n",
    "print(\"Total number of bot tweets: %d\" % M_bot)"
   ]
  },
  {
   "cell_type": "code",
   "execution_count": 100,
   "metadata": {},
   "outputs": [
    {
     "name": "stdout",
     "output_type": "stream",
     "text": [
      "Sample size for genuine tweets: 2839\n",
      "Sample size for bot tweets: 1610\n"
     ]
    }
   ],
   "source": [
    "# Import only a sample from both .csv files \n",
    "# (sample size = original size / scaling_factor)\n",
    "# Source: http://nikgrozev.com/2015/06/16/fast-and-simple-sampling-in-pandas-when-loading-data-from-files/\n",
    "\n",
    "scaling_factor = 1000\n",
    "skipids_gen = [x for x in range(1, M_gen) if x % scaling_factor != 0]\n",
    "skipids_bot = [x for x in range(1, M_bot) if x % scaling_factor != 0]\n",
    "\n",
    "data_gen = pd.read_csv(filename_gen, skiprows = skipids_gen)\n",
    "data_bot = pd.read_csv(filename_bot, skiprows = skipids_bot)\n",
    "\n",
    "m_gen = len(data_gen)\n",
    "m_bot = len(data_bot)\n",
    "\n",
    "print(\"Sample size for genuine tweets: %d\" % m_gen)\n",
    "print(\"Sample size for bot tweets: %d\" % m_bot)"
   ]
  },
  {
   "cell_type": "code",
   "execution_count": 101,
   "metadata": {
    "collapsed": true
   },
   "outputs": [],
   "source": [
    "data2_gen = data_gen[['retweet_count', 'reply_count', 'favorite_count', 'num_hashtags', 'num_urls', 'num_mentions']]\n",
    "data2_bot = data_bot[['retweet_count', 'reply_count', 'favorite_count', 'num_hashtags', 'num_urls', 'num_mentions']]\n",
    "\n",
    "genSummary = data2_gen.mean()\n",
    "botSummary = data2_bot.mean()"
   ]
  },
  {
   "cell_type": "code",
   "execution_count": 102,
   "metadata": {},
   "outputs": [
    {
     "data": {
      "text/plain": [
       "retweet_count     564.218387\n",
       "reply_count         0.000000\n",
       "favorite_count      0.498063\n",
       "num_hashtags        0.243396\n",
       "num_urls            0.157802\n",
       "num_mentions        0.759070\n",
       "dtype: float64"
      ]
     },
     "execution_count": 102,
     "metadata": {},
     "output_type": "execute_result"
    }
   ],
   "source": [
    "genSummary"
   ]
  },
  {
   "cell_type": "code",
   "execution_count": 160,
   "metadata": {
    "scrolled": true
   },
   "outputs": [
    {
     "data": {
      "text/plain": [
       "retweet_count     2.269565\n",
       "reply_count       0.000000\n",
       "favorite_count    1.490683\n",
       "num_hashtags      0.093789\n",
       "num_urls          0.054037\n",
       "num_mentions      0.041615\n",
       "dtype: float64"
      ]
     },
     "execution_count": 160,
     "metadata": {},
     "output_type": "execute_result"
    }
   ],
   "source": [
    "botSummary"
   ]
  },
  {
   "cell_type": "code",
   "execution_count": 108,
   "metadata": {},
   "outputs": [
    {
     "data": {
      "text/html": [
       "<div>\n",
       "<style>\n",
       "    .dataframe thead tr:only-child th {\n",
       "        text-align: right;\n",
       "    }\n",
       "\n",
       "    .dataframe thead th {\n",
       "        text-align: left;\n",
       "    }\n",
       "\n",
       "    .dataframe tbody tr th {\n",
       "        vertical-align: top;\n",
       "    }\n",
       "</style>\n",
       "<table border=\"1\" class=\"dataframe\">\n",
       "  <thead>\n",
       "    <tr style=\"text-align: right;\">\n",
       "      <th></th>\n",
       "      <th>retweet_count</th>\n",
       "      <th>reply_count</th>\n",
       "      <th>favorite_count</th>\n",
       "      <th>num_hashtags</th>\n",
       "      <th>num_urls</th>\n",
       "      <th>num_mentions</th>\n",
       "    </tr>\n",
       "  </thead>\n",
       "  <tbody>\n",
       "    <tr>\n",
       "      <th>count</th>\n",
       "      <td>2839.000000</td>\n",
       "      <td>2839.0</td>\n",
       "      <td>2839.000000</td>\n",
       "      <td>2839.000000</td>\n",
       "      <td>2839.000000</td>\n",
       "      <td>2839.000000</td>\n",
       "    </tr>\n",
       "    <tr>\n",
       "      <th>mean</th>\n",
       "      <td>564.218387</td>\n",
       "      <td>0.0</td>\n",
       "      <td>0.498063</td>\n",
       "      <td>0.243396</td>\n",
       "      <td>0.157802</td>\n",
       "      <td>0.759070</td>\n",
       "    </tr>\n",
       "    <tr>\n",
       "      <th>std</th>\n",
       "      <td>6175.392204</td>\n",
       "      <td>0.0</td>\n",
       "      <td>3.375582</td>\n",
       "      <td>0.743023</td>\n",
       "      <td>0.376037</td>\n",
       "      <td>0.881492</td>\n",
       "    </tr>\n",
       "    <tr>\n",
       "      <th>min</th>\n",
       "      <td>0.000000</td>\n",
       "      <td>0.0</td>\n",
       "      <td>0.000000</td>\n",
       "      <td>0.000000</td>\n",
       "      <td>0.000000</td>\n",
       "      <td>0.000000</td>\n",
       "    </tr>\n",
       "    <tr>\n",
       "      <th>25%</th>\n",
       "      <td>0.000000</td>\n",
       "      <td>0.0</td>\n",
       "      <td>0.000000</td>\n",
       "      <td>0.000000</td>\n",
       "      <td>0.000000</td>\n",
       "      <td>0.000000</td>\n",
       "    </tr>\n",
       "    <tr>\n",
       "      <th>50%</th>\n",
       "      <td>0.000000</td>\n",
       "      <td>0.0</td>\n",
       "      <td>0.000000</td>\n",
       "      <td>0.000000</td>\n",
       "      <td>0.000000</td>\n",
       "      <td>1.000000</td>\n",
       "    </tr>\n",
       "    <tr>\n",
       "      <th>75%</th>\n",
       "      <td>1.000000</td>\n",
       "      <td>0.0</td>\n",
       "      <td>0.000000</td>\n",
       "      <td>0.000000</td>\n",
       "      <td>0.000000</td>\n",
       "      <td>1.000000</td>\n",
       "    </tr>\n",
       "    <tr>\n",
       "      <th>max</th>\n",
       "      <td>220692.000000</td>\n",
       "      <td>0.0</td>\n",
       "      <td>137.000000</td>\n",
       "      <td>10.000000</td>\n",
       "      <td>3.000000</td>\n",
       "      <td>9.000000</td>\n",
       "    </tr>\n",
       "  </tbody>\n",
       "</table>\n",
       "</div>"
      ],
      "text/plain": [
       "       retweet_count  reply_count  favorite_count  num_hashtags     num_urls  \\\n",
       "count    2839.000000       2839.0     2839.000000   2839.000000  2839.000000   \n",
       "mean      564.218387          0.0        0.498063      0.243396     0.157802   \n",
       "std      6175.392204          0.0        3.375582      0.743023     0.376037   \n",
       "min         0.000000          0.0        0.000000      0.000000     0.000000   \n",
       "25%         0.000000          0.0        0.000000      0.000000     0.000000   \n",
       "50%         0.000000          0.0        0.000000      0.000000     0.000000   \n",
       "75%         1.000000          0.0        0.000000      0.000000     0.000000   \n",
       "max    220692.000000          0.0      137.000000     10.000000     3.000000   \n",
       "\n",
       "       num_mentions  \n",
       "count   2839.000000  \n",
       "mean       0.759070  \n",
       "std        0.881492  \n",
       "min        0.000000  \n",
       "25%        0.000000  \n",
       "50%        1.000000  \n",
       "75%        1.000000  \n",
       "max        9.000000  "
      ]
     },
     "execution_count": 108,
     "metadata": {},
     "output_type": "execute_result"
    }
   ],
   "source": [
    "data2_gen.describe()"
   ]
  },
  {
   "cell_type": "code",
   "execution_count": 10,
   "metadata": {},
   "outputs": [
    {
     "data": {
      "text/plain": [
       "['id',\n",
       " 'text',\n",
       " 'source',\n",
       " 'user_id',\n",
       " 'truncated',\n",
       " 'in_reply_to_status_id',\n",
       " 'in_reply_to_user_id',\n",
       " 'in_reply_to_screen_name',\n",
       " 'retweeted_status_id',\n",
       " 'geo',\n",
       " 'place',\n",
       " 'contributors',\n",
       " 'retweet_count',\n",
       " 'reply_count',\n",
       " 'favorite_count',\n",
       " 'favorited',\n",
       " 'retweeted',\n",
       " 'possibly_sensitive',\n",
       " 'num_hashtags',\n",
       " 'num_urls',\n",
       " 'num_mentions',\n",
       " 'created_at',\n",
       " 'timestamp',\n",
       " 'crawled_at',\n",
       " 'updated']"
      ]
     },
     "execution_count": 10,
     "metadata": {},
     "output_type": "execute_result"
    }
   ],
   "source": [
    "list(data_gen)"
   ]
  },
  {
   "cell_type": "code",
   "execution_count": 8,
   "metadata": {},
   "outputs": [
    {
     "name": "stdout",
     "output_type": "stream",
     "text": [
      "Total number of genuine users: 3475\n",
      "Total number of bot users: 992\n"
     ]
    }
   ],
   "source": [
    "filename_gen_user = \"genuine_accounts.csv/users.csv\"\n",
    "filename_bot_user = \"social_spambots_1.csv/users.csv\"\n",
    "\n",
    "m_gen_user = sum(1 for l in io.open(filename_gen_user, encoding='latin-1'))\n",
    "m_bot_user = sum(1 for l in io.open(filename_bot_user, encoding='latin-1'))\n",
    "\n",
    "print(\"Total number of genuine users: %d\" % m_gen_user)\n",
    "print(\"Total number of bot users: %d\" % m_bot_user)"
   ]
  },
  {
   "cell_type": "code",
   "execution_count": 107,
   "metadata": {},
   "outputs": [
    {
     "data": {
      "text/plain": [
       "['retweet_count',\n",
       " 'reply_count',\n",
       " 'favorite_count',\n",
       " 'num_hashtags',\n",
       " 'num_urls',\n",
       " 'num_mentions']"
      ]
     },
     "execution_count": 107,
     "metadata": {},
     "output_type": "execute_result"
    }
   ],
   "source": [
    "data_gen_user = pd.read_csv(filename_gen_user)\n",
    "data_bot_user = pd.read_csv(filename_bot_user)\n",
    "\n",
    "data_gen_user_2 = data_gen_user[['id','name','statuses_count','followers_count','friends_count','favourites_count','listed_count','default_profile_image']]\n",
    "data_bot_user_2 = data_bot_user[['id','name','statuses_count','followers_count','friends_count','favourites_count','listed_count','default_profile_image']]\n",
    "\n",
    "list(data2_gen)"
   ]
  },
  {
   "cell_type": "code",
   "execution_count": 91,
   "metadata": {},
   "outputs": [],
   "source": [
    "# Fucking annoying shit that didn't even mean anything\n",
    "\n",
    "# data_gen_user_2 = data_gen_user[['id','name','statuses_count','followers_count','friends_count','favourites_count','listed_count','default_profile_image']]\n",
    "# data_bot_user_2 = data_bot_user[['id','name','statuses_count','followers_count','friends_count','favourites_count','listed_count','default_profile_image']]\n",
    "# genUserColorData = data_gen_user[['profile_text_color','profile_sidebar_border_color','profile_sidebar_fill_color','profile_background_color','profile_link_color']]\n",
    "# botUserColorData = data_bot_user[['profile_text_color','profile_sidebar_border_color','profile_sidebar_fill_color','profile_background_color','profile_link_color']]\n",
    "# genUserColorNotSelected = genUserColorData.applymap(lambda x: x==\"000000\").all(axis=1)\n",
    "# botUserColorNotSelected = botUserColorData.applymap(lambda x: x==\"000000\").all(axis=1)\n",
    "# data_gen_user_2.assign(colorNotSelected = genUserColorNotSelected)\n",
    "# data_bot_user_2.assign(colorNotSelected = botUserColorNotSelected)"
   ]
  },
  {
   "cell_type": "code",
   "execution_count": 106,
   "metadata": {},
   "outputs": [
    {
     "data": {
      "text/plain": [
       "['id',\n",
       " 'name',\n",
       " 'statuses_count',\n",
       " 'followers_count',\n",
       " 'friends_count',\n",
       " 'favourites_count',\n",
       " 'listed_count',\n",
       " 'default_profile_image']"
      ]
     },
     "execution_count": 106,
     "metadata": {},
     "output_type": "execute_result"
    }
   ],
   "source": [
    "list(data_gen_user_2)"
   ]
  },
  {
   "cell_type": "code",
   "execution_count": 110,
   "metadata": {},
   "outputs": [
    {
     "data": {
      "text/html": [
       "<div>\n",
       "<style>\n",
       "    .dataframe thead tr:only-child th {\n",
       "        text-align: right;\n",
       "    }\n",
       "\n",
       "    .dataframe thead th {\n",
       "        text-align: left;\n",
       "    }\n",
       "\n",
       "    .dataframe tbody tr th {\n",
       "        vertical-align: top;\n",
       "    }\n",
       "</style>\n",
       "<table border=\"1\" class=\"dataframe\">\n",
       "  <thead>\n",
       "    <tr style=\"text-align: right;\">\n",
       "      <th></th>\n",
       "      <th>id</th>\n",
       "      <th>statuses_count</th>\n",
       "      <th>followers_count</th>\n",
       "      <th>friends_count</th>\n",
       "      <th>favourites_count</th>\n",
       "      <th>listed_count</th>\n",
       "      <th>default_profile_image</th>\n",
       "    </tr>\n",
       "  </thead>\n",
       "  <tbody>\n",
       "    <tr>\n",
       "      <th>count</th>\n",
       "      <td>3.474000e+03</td>\n",
       "      <td>3474.000000</td>\n",
       "      <td>3474.000000</td>\n",
       "      <td>3474.000000</td>\n",
       "      <td>3474.000000</td>\n",
       "      <td>3474.000000</td>\n",
       "      <td>13.0</td>\n",
       "    </tr>\n",
       "    <tr>\n",
       "      <th>mean</th>\n",
       "      <td>9.519675e+08</td>\n",
       "      <td>16958.220207</td>\n",
       "      <td>1393.219632</td>\n",
       "      <td>633.242372</td>\n",
       "      <td>4669.620322</td>\n",
       "      <td>19.496546</td>\n",
       "      <td>1.0</td>\n",
       "    </tr>\n",
       "    <tr>\n",
       "      <th>std</th>\n",
       "      <td>9.942397e+08</td>\n",
       "      <td>30696.286104</td>\n",
       "      <td>17216.664524</td>\n",
       "      <td>1600.962972</td>\n",
       "      <td>11527.566663</td>\n",
       "      <td>157.740969</td>\n",
       "      <td>0.0</td>\n",
       "    </tr>\n",
       "    <tr>\n",
       "      <th>min</th>\n",
       "      <td>6.780330e+05</td>\n",
       "      <td>3.000000</td>\n",
       "      <td>1.000000</td>\n",
       "      <td>0.000000</td>\n",
       "      <td>0.000000</td>\n",
       "      <td>0.000000</td>\n",
       "      <td>1.0</td>\n",
       "    </tr>\n",
       "    <tr>\n",
       "      <th>25%</th>\n",
       "      <td>1.475541e+08</td>\n",
       "      <td>1810.250000</td>\n",
       "      <td>149.000000</td>\n",
       "      <td>169.000000</td>\n",
       "      <td>261.250000</td>\n",
       "      <td>0.000000</td>\n",
       "      <td>1.0</td>\n",
       "    </tr>\n",
       "    <tr>\n",
       "      <th>50%</th>\n",
       "      <td>4.751671e+08</td>\n",
       "      <td>6609.000000</td>\n",
       "      <td>341.000000</td>\n",
       "      <td>319.000000</td>\n",
       "      <td>1286.000000</td>\n",
       "      <td>2.000000</td>\n",
       "      <td>1.0</td>\n",
       "    </tr>\n",
       "    <tr>\n",
       "      <th>75%</th>\n",
       "      <td>1.655303e+09</td>\n",
       "      <td>19467.000000</td>\n",
       "      <td>803.750000</td>\n",
       "      <td>635.750000</td>\n",
       "      <td>4727.000000</td>\n",
       "      <td>8.000000</td>\n",
       "      <td>1.0</td>\n",
       "    </tr>\n",
       "    <tr>\n",
       "      <th>max</th>\n",
       "      <td>3.164942e+09</td>\n",
       "      <td>399555.000000</td>\n",
       "      <td>986837.000000</td>\n",
       "      <td>46310.000000</td>\n",
       "      <td>313954.000000</td>\n",
       "      <td>6166.000000</td>\n",
       "      <td>1.0</td>\n",
       "    </tr>\n",
       "  </tbody>\n",
       "</table>\n",
       "</div>"
      ],
      "text/plain": [
       "                 id  statuses_count  followers_count  friends_count  \\\n",
       "count  3.474000e+03     3474.000000      3474.000000    3474.000000   \n",
       "mean   9.519675e+08    16958.220207      1393.219632     633.242372   \n",
       "std    9.942397e+08    30696.286104     17216.664524    1600.962972   \n",
       "min    6.780330e+05        3.000000         1.000000       0.000000   \n",
       "25%    1.475541e+08     1810.250000       149.000000     169.000000   \n",
       "50%    4.751671e+08     6609.000000       341.000000     319.000000   \n",
       "75%    1.655303e+09    19467.000000       803.750000     635.750000   \n",
       "max    3.164942e+09   399555.000000    986837.000000   46310.000000   \n",
       "\n",
       "       favourites_count  listed_count  default_profile_image  \n",
       "count       3474.000000   3474.000000                   13.0  \n",
       "mean        4669.620322     19.496546                    1.0  \n",
       "std        11527.566663    157.740969                    0.0  \n",
       "min            0.000000      0.000000                    1.0  \n",
       "25%          261.250000      0.000000                    1.0  \n",
       "50%         1286.000000      2.000000                    1.0  \n",
       "75%         4727.000000      8.000000                    1.0  \n",
       "max       313954.000000   6166.000000                    1.0  "
      ]
     },
     "execution_count": 110,
     "metadata": {},
     "output_type": "execute_result"
    }
   ],
   "source": [
    "data_gen_user_2.describe()"
   ]
  },
  {
   "cell_type": "code",
   "execution_count": null,
   "metadata": {
    "collapsed": true
   },
   "outputs": [],
   "source": []
  }
 ],
 "metadata": {
  "kernelspec": {
   "display_name": "Python 3",
   "language": "python",
   "name": "python3"
  },
  "language_info": {
   "codemirror_mode": {
    "name": "ipython",
    "version": 3
   },
   "file_extension": ".py",
   "mimetype": "text/x-python",
   "name": "python",
   "nbconvert_exporter": "python",
   "pygments_lexer": "ipython3",
   "version": "3.6.3"
  }
 },
 "nbformat": 4,
 "nbformat_minor": 2
}
